{
 "cells": [
  {
   "attachments": {},
   "cell_type": "markdown",
   "metadata": {},
   "source": [
    "## WiP D213 Task 2: NLP Deep Learning"
   ]
  },
  {
   "attachments": {},
   "cell_type": "markdown",
   "metadata": {},
   "source": [
    "### Non-narrative steps"
   ]
  },
  {
   "attachments": {},
   "cell_type": "markdown",
   "metadata": {},
   "source": [
    " #### 1. Select dataset\n",
    " #### 2. Data EDA/Preprocessing\n",
    "        - Detection and handling of unusual characters (i.e., emojis and non-English characters)\n",
    "        - Determine vocabulary size\n",
    "        - Select word embedding length based on statistical inference\n",
    " #### 3. `Tokenization`/normalization\n",
    " #### 4. `Padding` (standardize `length of sequences`)\n",
    "        - Pad as prefix or suffix\n",
    "        - Pull out at least one example of padded sequence for observation\n",
    " #### 5. Determine number of `categories of sentiment` to use and `activation function` to use (specifically in the final Dense layer?)\n",
    " #### 6. Determine `train/test split` (<font size=2em>*model.fit(validation_set=`x`)*</font>)\n",
    " #### 7. Design the model in `TensorFlow`\n",
    "        - Number of layers\n",
    "        - Type of layers\n",
    "        - Total number of parameters\n",
    " #### 8. Choice of `hyperparameters` including:\n",
    "        - Activation function (see 5.)\n",
    "              - 'relu'\n",
    "        - Number of nodes per layer\n",
    "              - TBD\n",
    "        - Loss function\n",
    "              - Probably 'categorical_crossentropy', but backup with reference to the literature\n",
    "        - Optimizer\n",
    "              - Probably 'adam', but same as above\n",
    "        - EarlyStopping criteria\n",
    "              - Maybe 2? Experiment and decide\n",
    "        - Evaluation metric\n",
    "              - MSE or RMSE\n",
    " #### 9. `Evaluate` the model\n",
    "        - Find out how changing EarlyStopping(x) impacts the model vs number of training epochs\n",
    "        - Make a line graph of the model training both loss metric and validation metric (i.e., MSE)\n",
    "        - Determine model fitness vs overfitting\n",
    "        - Quantify accuracy of the model"
   ]
  },
  {
   "cell_type": "code",
   "execution_count": null,
   "metadata": {
    "vscode": {
     "languageId": "plaintext"
    }
   },
   "outputs": [],
   "source": []
  }
 ],
 "metadata": {
  "language_info": {
   "name": "python"
  },
  "orig_nbformat": 4
 },
 "nbformat": 4,
 "nbformat_minor": 2
}
